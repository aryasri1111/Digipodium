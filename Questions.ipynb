{
 "cells": [
  {
   "cell_type": "code",
   "execution_count": 5,
   "metadata": {},
   "outputs": [
    {
     "name": "stdout",
     "output_type": "stream",
     "text": [
      "55 45 65 85 "
     ]
    }
   ],
   "source": [
    "l1 = [10,24,55,48,45,65,66,85,88,40]\n",
    "for num in l1:\n",
    "    if num % 2 != 0:\n",
    "        print(num, end=\" \")"
   ]
  },
  {
   "cell_type": "code",
   "execution_count": 4,
   "metadata": {},
   "outputs": [
    {
     "name": "stdout",
     "output_type": "stream",
     "text": [
      "odd: [55, 65, 11, 33, 55]\n",
      "even: [10, 20, 24, 54, 22]\n"
     ]
    }
   ],
   "source": [
    "l2=[10,20,24,55,54,65,11,22,33,55]\n",
    "odd_no =[num for num in l2 if num%2 != 0]\n",
    "even_no =[num for num in l2 if num%2 ==0]\n",
    "print (\"odd:\", odd_no)\n",
    "print (\"even:\", even_no)\n"
   ]
  },
  {
   "cell_type": "code",
   "execution_count": 7,
   "metadata": {},
   "outputs": [
    {
     "name": "stdout",
     "output_type": "stream",
     "text": [
      "odd : 1\n",
      "even : 2\n",
      "odd : 3\n",
      "even : 4\n",
      "odd : 5\n",
      "even : 6\n",
      "even : 4\n",
      "odd : 5\n",
      "even : 2\n",
      "even : 4\n"
     ]
    }
   ],
   "source": [
    "a=[1,2,3,4,5,6,4,5,2,4]\n",
    "for i in a:\n",
    "    if i%2==0:\n",
    "        print(f'even : {i}')\n",
    "    else:\n",
    "        print(f'odd : {i}')"
   ]
  }
 ],
 "metadata": {
  "kernelspec": {
   "display_name": "base",
   "language": "python",
   "name": "python3"
  },
  "language_info": {
   "codemirror_mode": {
    "name": "ipython",
    "version": 3
   },
   "file_extension": ".py",
   "mimetype": "text/x-python",
   "name": "python",
   "nbconvert_exporter": "python",
   "pygments_lexer": "ipython3",
   "version": "3.11.4"
  },
  "orig_nbformat": 4
 },
 "nbformat": 4,
 "nbformat_minor": 2
}
