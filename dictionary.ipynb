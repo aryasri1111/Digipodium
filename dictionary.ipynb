{
 "cells": [
  {
   "cell_type": "markdown",
   "metadata": {},
   "source": [
    "- Declaration\n",
    "- Access key and values"
   ]
  },
  {
   "cell_type": "code",
   "execution_count": 1,
   "metadata": {},
   "outputs": [
    {
     "name": "stdout",
     "output_type": "stream",
     "text": [
      "{'name': 'Arya Srivastava', 'class': '2nd', 'roll no.': 21, 'marks': 90}\n"
     ]
    }
   ],
   "source": [
    "students={'name':'Arya Srivastava',\n",
    "          'class':'2nd',\n",
    "          'roll no.': 21,\n",
    "          'marks' : 90}\n",
    "print(students)"
   ]
  },
  {
   "cell_type": "markdown",
   "metadata": {},
   "source": [
    "To access values there are two methods:"
   ]
  },
  {
   "cell_type": "code",
   "execution_count": 3,
   "metadata": {},
   "outputs": [
    {
     "name": "stdout",
     "output_type": "stream",
     "text": [
      "Arya Srivastava\n",
      "2nd\n"
     ]
    }
   ],
   "source": [
    "#1st method\n",
    "print(students['name'])\n",
    "print(students['class'])"
   ]
  },
  {
   "cell_type": "code",
   "execution_count": 5,
   "metadata": {},
   "outputs": [
    {
     "name": "stdout",
     "output_type": "stream",
     "text": [
      "Arya Srivastava\n",
      "2nd\n"
     ]
    }
   ],
   "source": [
    "#2nd method\n",
    "print(students.get('name'))\n",
    "print(students.get('class'))"
   ]
  },
  {
   "cell_type": "code",
   "execution_count": 8,
   "metadata": {},
   "outputs": [
    {
     "name": "stdout",
     "output_type": "stream",
     "text": [
      "{'name': 'Arya Srivastava', 'class': '2nd', 'roll no.': 21, 'marks': 90, 'school': 'CMS', 'Mothers name': 'Seema Srivastava'}\n"
     ]
    }
   ],
   "source": [
    "#to add item in a dictionary\n",
    "students['school']='CMS'\n",
    "students['Mothers name']='Seema Srivastava'\n",
    "print(students)"
   ]
  },
  {
   "cell_type": "code",
   "execution_count": 10,
   "metadata": {},
   "outputs": [
    {
     "name": "stdout",
     "output_type": "stream",
     "text": [
      "name\n",
      "class\n",
      "roll no.\n",
      "marks\n",
      "school\n",
      "Mothers name\n"
     ]
    }
   ],
   "source": [
    "for key in students:\n",
    "    print(key)"
   ]
  },
  {
   "cell_type": "code",
   "execution_count": 13,
   "metadata": {},
   "outputs": [
    {
     "name": "stdout",
     "output_type": "stream",
     "text": [
      "name : Arya Srivastava\n",
      "class : 2nd\n",
      "roll no. : 21\n",
      "marks : 90\n",
      "school : CMS\n",
      "Mothers name : Seema Srivastava\n"
     ]
    }
   ],
   "source": [
    "for k,v in students.items():\n",
    "    print(f'{k} : {v}')\n"
   ]
  },
  {
   "cell_type": "code",
   "execution_count": 15,
   "metadata": {},
   "outputs": [
    {
     "name": "stdout",
     "output_type": "stream",
     "text": [
      "dict_keys(['name', 'class', 'roll no.', 'marks', 'school', 'Mothers name'])\n",
      "dict_values(['Arya Srivastava', '2nd', 21, 90, 'CMS', 'Seema Srivastava'])\n",
      "dict_items([('name', 'Arya Srivastava'), ('class', '2nd'), ('roll no.', 21), ('marks', 90), ('school', 'CMS'), ('Mothers name', 'Seema Srivastava')])\n"
     ]
    }
   ],
   "source": [
    "print(students.keys())\n",
    "print(students.values())\n",
    "print(students.items())"
   ]
  },
  {
   "cell_type": "code",
   "execution_count": 17,
   "metadata": {},
   "outputs": [
    {
     "name": "stdout",
     "output_type": "stream",
     "text": [
      "{'English': 99, 'Hindi': 98, 'Maths': 55, 'Science': 74, 'Social Science': 65}\n"
     ]
    }
   ],
   "source": [
    "raj_dict={\n",
    "    'English' : 99 ,\n",
    "    'Hindi' : 98 ,\n",
    "    'Maths' : 55 ,\n",
    "    'Science' : 74 ,\n",
    "    'Social Science' : 65\n",
    "}\n",
    "print(raj_dict)"
   ]
  },
  {
   "cell_type": "code",
   "execution_count": 19,
   "metadata": {},
   "outputs": [
    {
     "name": "stdout",
     "output_type": "stream",
     "text": [
      "{'emp001': {'name': 'John', 'age': 25, 'designation': 'Team Leader', 'salary': 32000}, 'emp002': {'name': 'Sam', 'age': 22, 'designation': 'Software Developer', 'salary': 28000}, 'emp003': {'name': 'Aron', 'age': 29, 'designation': 'Web Developer', 'salary': 30000}}\n"
     ]
    }
   ],
   "source": [
    "company= {\n",
    "    'emp001' : {\n",
    "        'name' : 'John',\n",
    "        'age' : 25,\n",
    "        'designation' : 'Team Leader',\n",
    "        'salary' : 32000\n",
    "    },\n",
    "    'emp002' : {\n",
    "        'name' : 'Sam',\n",
    "        'age' : 22,\n",
    "        'designation' : 'Software Developer',\n",
    "        'salary' : 28000\n",
    "    },\n",
    "    'emp003' : {\n",
    "        'name' : 'Aron',\n",
    "        'age' : 29,\n",
    "        'designation' : 'Web Developer',\n",
    "        'salary' : 30000\n",
    "        }\n",
    "}\n",
    "print(company)"
   ]
  },
  {
   "cell_type": "code",
   "execution_count": 21,
   "metadata": {},
   "outputs": [
    {
     "name": "stdout",
     "output_type": "stream",
     "text": [
      "{'emp001': {'name': 'John', 'age': 25, 'designation': 'Team Leader', 'salary': 32000}, 'emp002': {'name': 'Sam', 'age': 22, 'designation': 'Software Developer', 'salary': 28000}, 'emp003': {'name': 'Aron', 'age': 29, 'designation': 'Web Developer', 'salary': 30000}, 'name': 'Anjali Mishra'}\n"
     ]
    }
   ],
   "source": [
    "company['name'] = 'Anjali Mishra'\n",
    "print(company)"
   ]
  },
  {
   "cell_type": "code",
   "execution_count": 23,
   "metadata": {},
   "outputs": [
    {
     "name": "stdout",
     "output_type": "stream",
     "text": [
      "{'emp001': {'name': 'John', 'age': 25, 'designation': 'Team Leader', 'salary': 32000}, 'emp002': {'name': 'Sam', 'age': 22, 'designation': 'Software Developer', 'salary': 28000}, 'emp003': {'name': 'Aron', 'age': 29, 'designation': 'Web Developer', 'salary': 30000}, 'name': 'Anjali Mishra', 'emp004': {'name': 'Raj', 'age': 30, 'designation': 'Software Developer', 'salary': 35000}}\n"
     ]
    }
   ],
   "source": [
    "company['emp004'] = {\n",
    "    'name' : 'Raj',\n",
    "    'age' : 30,\n",
    "    'designation' : 'Software Developer',\n",
    "    'salary' : 35000\n",
    "}\n",
    "print(company)"
   ]
  },
  {
   "cell_type": "code",
   "execution_count": 25,
   "metadata": {},
   "outputs": [
    {
     "name": "stdout",
     "output_type": "stream",
     "text": [
      "dict_keys(['emp001', 'emp002', 'emp003', 'name', 'emp004'])\n",
      "dict_values([{'name': 'John', 'age': 25, 'designation': 'Team Leader', 'salary': 32000}, {'name': 'Sam', 'age': 22, 'designation': 'Software Developer', 'salary': 28000}, {'name': 'Aron', 'age': 29, 'designation': 'Web Developer', 'salary': 30000}, 'Anjali Mishra', {'name': 'Raj', 'age': 30, 'designation': 'Software Developer', 'salary': 35000}])\n"
     ]
    }
   ],
   "source": [
    "print(company.keys())\n",
    "print(company.values())"
   ]
  },
  {
   "cell_type": "code",
   "execution_count": 26,
   "metadata": {},
   "outputs": [
    {
     "name": "stdout",
     "output_type": "stream",
     "text": [
      "emp001 : {'name': 'John', 'age': 25, 'designation': 'Team Leader', 'salary': 32000}\n",
      "emp002 : {'name': 'Sam', 'age': 22, 'designation': 'Software Developer', 'salary': 28000}\n",
      "emp003 : {'name': 'Aron', 'age': 29, 'designation': 'Web Developer', 'salary': 30000}\n",
      "name : Anjali Mishra\n",
      "emp004 : {'name': 'Raj', 'age': 30, 'designation': 'Software Developer', 'salary': 35000}\n"
     ]
    }
   ],
   "source": [
    "for k,v in company.items():\n",
    "    print(f\"{k} : {v}\")"
   ]
  }
 ],
 "metadata": {
  "kernelspec": {
   "display_name": "base",
   "language": "python",
   "name": "python3"
  },
  "language_info": {
   "codemirror_mode": {
    "name": "ipython",
    "version": 3
   },
   "file_extension": ".py",
   "mimetype": "text/x-python",
   "name": "python",
   "nbconvert_exporter": "python",
   "pygments_lexer": "ipython3",
   "version": "3.11.4"
  },
  "orig_nbformat": 4
 },
 "nbformat": 4,
 "nbformat_minor": 2
}
