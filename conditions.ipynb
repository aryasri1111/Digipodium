{
 "cells": [
  {
   "cell_type": "markdown",
   "metadata": {},
   "source": [
    "Conditions\n",
    "- if\n",
    "- else\n",
    "- elif\n",
    "- if elif\n",
    "- Nested If "
   ]
  },
  {
   "cell_type": "code",
   "execution_count": 3,
   "metadata": {},
   "outputs": [
    {
     "name": "stdout",
     "output_type": "stream",
     "text": [
      "Invalid email🥺\n"
     ]
    }
   ],
   "source": [
    "name=input(\"enter the username\")\n",
    "email=input(\"enter the email\")\n",
    "ps=input(\"enter the password\")\n",
    "ps2=input(\"enter the password again\")\n",
    "if len(name)>=4 and len(name)<=15:\n",
    "    if '@' in email and email.islower() and len(email)>10:\n",
    "        if len(ps)>=6 and ps!=name:\n",
    "            if ps==ps2:\n",
    "                print(\"Hurray🎉\")\n",
    "            else:\n",
    "                print(\"Password not matched😢\")\n",
    "        else:\n",
    "            print(\"Invalid password😒\")\n",
    "    else:\n",
    "        print(\"Invalid email🥺\")\n",
    "else:\n",
    "    print(\"Invalid name😓\")"
   ]
  },
  {
   "cell_type": "code",
   "execution_count": 2,
   "metadata": {},
   "outputs": [
    {
     "name": "stdout",
     "output_type": "stream",
     "text": [
      "I will go out for a walk\n",
      "I will go to the park\n"
     ]
    }
   ],
   "source": [
    "temperature=25\n",
    "weather=\"breezy\"\n",
    "if weather==\"breezy\":\n",
    "    print(\"I will go out for a walk\")\n",
    "    if temperature>30:\n",
    "        print(\"I will go to the beach\")\n",
    "    else:\n",
    "        print(\"I will go to the park\")\n",
    "else:\n",
    "    print(\"I will stay at home\")\n"
   ]
  },
  {
   "cell_type": "markdown",
   "metadata": {},
   "source": [
    "Match Case"
   ]
  },
  {
   "cell_type": "code",
   "execution_count": 4,
   "metadata": {},
   "outputs": [
    {
     "name": "stdout",
     "output_type": "stream",
     "text": [
      "It's an electric vehicle\n"
     ]
    }
   ],
   "source": [
    "vehicle=input(\"Enter the type of vehicle:\")\n",
    "match vehicle:\n",
    "    case \"gasoline\" | \"diesel\":\n",
    "        print(\"It's a traditional fuel vehicle\")\n",
    "    case \"electric\":\n",
    "        print(\"It's an electric vehicle\")\n",
    "    case \"hybrid\":\n",
    "        print(\"It's a hybrid vehicle\")\n",
    "    case _:\n",
    "        print(\"I am not sure about this vehicle\")\n"
   ]
  },
  {
   "cell_type": "markdown",
   "metadata": {},
   "source": [
    "if "
   ]
  },
  {
   "cell_type": "code",
   "execution_count": 2,
   "metadata": {},
   "outputs": [
    {
     "name": "stdout",
     "output_type": "stream",
     "text": [
      "x is less than y\n"
     ]
    }
   ],
   "source": [
    "x=15\n",
    "y=20\n",
    "if x>y:\n",
    "    print('x is greater than y')\n",
    "if x<y:\n",
    "    print('x is less than y')\n",
    "    "
   ]
  },
  {
   "cell_type": "markdown",
   "metadata": {},
   "source": [
    "elif "
   ]
  },
  {
   "cell_type": "code",
   "execution_count": 3,
   "metadata": {},
   "outputs": [
    {
     "name": "stdout",
     "output_type": "stream",
     "text": [
      "x is less than y\n"
     ]
    }
   ],
   "source": [
    "x=10\n",
    "y=15\n",
    "z=5\n",
    "if x<y :\n",
    "    print(\"x is less than y\")\n",
    "elif x>z :\n",
    "    print(\"x is greater than z\")\n",
    "else:\n",
    "    print(\"x is the smallest number\")\n"
   ]
  },
  {
   "cell_type": "code",
   "execution_count": 5,
   "metadata": {},
   "outputs": [
    {
     "name": "stdout",
     "output_type": "stream",
     "text": [
      "Grade: A\n"
     ]
    }
   ],
   "source": [
    "total = 500\n",
    "get_marks = int(input(\"enter get marks : \"))\n",
    "percentage = (get_marks / total)*100\n",
    "if percentage >= 90:\n",
    "    print(\"Grade: A+\")\n",
    "elif percentage >= 80:\n",
    "    print(\"Grade: A\")\n",
    "elif percentage >= 70:\n",
    "    print(\"Grade: B\")\n",
    "elif percentage >= 60:\n",
    "    print(\"Grade: C\")\n",
    "elif percentage >= 50:\n",
    "    print(\"Grade: D\")\n",
    "else:\n",
    "    print(\"Fail\")\n"
   ]
  },
  {
   "cell_type": "markdown",
   "metadata": {},
   "source": [
    "else"
   ]
  },
  {
   "cell_type": "code",
   "execution_count": 7,
   "metadata": {},
   "outputs": [
    {
     "name": "stdout",
     "output_type": "stream",
     "text": [
      "Even\n"
     ]
    }
   ],
   "source": [
    "x=8\n",
    "if x%2==0:\n",
    "    print(\"Even\")\n",
    "else:\n",
    "    print(\"Odd\")"
   ]
  },
  {
   "cell_type": "code",
   "execution_count": 8,
   "metadata": {},
   "outputs": [
    {
     "name": "stdout",
     "output_type": "stream",
     "text": [
      "Consonant\n"
     ]
    }
   ],
   "source": [
    "vowel=['a','e','i','o','u','A','E','I','O','U']\n",
    "letter = input(\"Enter a letter : \")\n",
    "if letter in vowel :\n",
    "    print(\"Vowel\")\n",
    "else:\n",
    "    print(\"Consonant\")"
   ]
  }
 ],
 "metadata": {
  "kernelspec": {
   "display_name": "base",
   "language": "python",
   "name": "python3"
  },
  "language_info": {
   "codemirror_mode": {
    "name": "ipython",
    "version": 3
   },
   "file_extension": ".py",
   "mimetype": "text/x-python",
   "name": "python",
   "nbconvert_exporter": "python",
   "pygments_lexer": "ipython3",
   "version": "3.11.4"
  },
  "orig_nbformat": 4
 },
 "nbformat": 4,
 "nbformat_minor": 2
}
