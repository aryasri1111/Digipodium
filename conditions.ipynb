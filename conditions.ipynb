{
 "cells": [
  {
   "cell_type": "markdown",
   "metadata": {},
   "source": [
    "Conditions\n",
    "- if\n",
    "- else\n",
    "- elif\n",
    "- if elif\n",
    "- Nested If Conditions"
   ]
  },
  {
   "cell_type": "code",
   "execution_count": 3,
   "metadata": {},
   "outputs": [
    {
     "name": "stdout",
     "output_type": "stream",
     "text": [
      "Invalid email🥺\n"
     ]
    }
   ],
   "source": [
    "name=input(\"enter the username\")\n",
    "email=input(\"enter the email\")\n",
    "ps=input(\"enter the password\")\n",
    "ps2=input(\"enter the password again\")\n",
    "if len(name)>=4 and len(name)<=15:\n",
    "    if '@' in email and email.islower() and len(email)>10:\n",
    "        if len(ps)>=6 and ps!=name:\n",
    "            if ps==ps2:\n",
    "                print(\"Hurray🎉\")\n",
    "            else:\n",
    "                print(\"Password not matched😢\")\n",
    "        else:\n",
    "            print(\"Invalid password😒\")\n",
    "    else:\n",
    "        print(\"Invalid email🥺\")\n",
    "else:\n",
    "    print(\"Invalid name😓\")"
   ]
  },
  {
   "cell_type": "code",
   "execution_count": 2,
   "metadata": {},
   "outputs": [
    {
     "name": "stdout",
     "output_type": "stream",
     "text": [
      "I will go out for a walk\n",
      "I will go to the park\n"
     ]
    }
   ],
   "source": [
    "temperature=25\n",
    "weather=\"breezy\"\n",
    "if weather==\"breezy\":\n",
    "    print(\"I will go out for a walk\")\n",
    "    if temperature>30:\n",
    "        print(\"I will go to the beach\")\n",
    "    else:\n",
    "        print(\"I will go to the park\")\n",
    "else:\n",
    "    print(\"I will stay at home\")\n"
   ]
  },
  {
   "cell_type": "markdown",
   "metadata": {},
   "source": [
    "Match Case"
   ]
  },
  {
   "cell_type": "code",
   "execution_count": 4,
   "metadata": {},
   "outputs": [
    {
     "name": "stdout",
     "output_type": "stream",
     "text": [
      "It's an electric vehicle\n"
     ]
    }
   ],
   "source": [
    "vehicle=input(\"Enter the type of vehicle:\")\n",
    "match vehicle:\n",
    "    case \"gasoline\" | \"diesel\":\n",
    "        print(\"It's a traditional fuel vehicle\")\n",
    "    case \"electric\":\n",
    "        print(\"It's an electric vehicle\")\n",
    "    case \"hybrid\":\n",
    "        print(\"It's a hybrid vehicle\")\n",
    "    case _:\n",
    "        print(\"I am not sure about this vehicle\")\n"
   ]
  }
 ],
 "metadata": {
  "kernelspec": {
   "display_name": "base",
   "language": "python",
   "name": "python3"
  },
  "language_info": {
   "codemirror_mode": {
    "name": "ipython",
    "version": 3
   },
   "file_extension": ".py",
   "mimetype": "text/x-python",
   "name": "python",
   "nbconvert_exporter": "python",
   "pygments_lexer": "ipython3",
   "version": "3.11.4"
  },
  "orig_nbformat": 4
 },
 "nbformat": 4,
 "nbformat_minor": 2
}
