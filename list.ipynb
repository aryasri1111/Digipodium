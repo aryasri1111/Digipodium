{
 "cells": [
  {
   "cell_type": "code",
   "execution_count": 6,
   "metadata": {},
   "outputs": [
    {
     "name": "stdout",
     "output_type": "stream",
     "text": [
      "brave\n"
     ]
    }
   ],
   "source": [
    "apps=['chrome','firefox','safari','edge','opera','brave','vivaldi','tor','duckduckgo','epic','chromium']\n",
    "print(apps[5])"
   ]
  },
  {
   "cell_type": "code",
   "execution_count": 7,
   "metadata": {},
   "outputs": [
    {
     "name": "stdout",
     "output_type": "stream",
     "text": [
      "['edge', 'opera', 'brave', 'vivaldi']\n"
     ]
    }
   ],
   "source": [
    "print(apps[3:7])"
   ]
  },
  {
   "cell_type": "code",
   "execution_count": 10,
   "metadata": {},
   "outputs": [
    {
     "name": "stdout",
     "output_type": "stream",
     "text": [
      "['chrome', 'firefox', 'safari', 'edge', 'opera', 'brave', 'vivaldi', 'Temple run', 'duckduckgo', 'epic', 'chromium']\n"
     ]
    }
   ],
   "source": [
    "apps[7]=\"Temple run\"\n",
    "print(apps)"
   ]
  },
  {
   "cell_type": "code",
   "execution_count": 12,
   "metadata": {},
   "outputs": [
    {
     "name": "stdout",
     "output_type": "stream",
     "text": [
      "11\n"
     ]
    }
   ],
   "source": [
    "print(len(apps))"
   ]
  },
  {
   "cell_type": "code",
   "execution_count": 14,
   "metadata": {},
   "outputs": [
    {
     "name": "stdout",
     "output_type": "stream",
     "text": [
      "['chrome', 'firefox', 'safari', 'edge', 'opera', 'brave', 'vivaldi', 'tor', 'duckduckgo']\n"
     ]
    }
   ],
   "source": [
    "apps=['chrome','firefox','safari','edge','opera','brave','vivaldi','tor','duckduckgo']\n",
    "print(apps)"
   ]
  },
  {
   "cell_type": "code",
   "execution_count": 16,
   "metadata": {},
   "outputs": [
    {
     "name": "stdout",
     "output_type": "stream",
     "text": [
      "['chrome', 'firefox', 'safari', 'edge', 'opera', 'brave', 'vivaldi', 'tor', 'duckduckgo', 'gallery', 'gallery']\n"
     ]
    }
   ],
   "source": [
    "apps.append('gallery')\n",
    "print(apps)"
   ]
  },
  {
   "cell_type": "code",
   "execution_count": 18,
   "metadata": {},
   "outputs": [
    {
     "name": "stdout",
     "output_type": "stream",
     "text": [
      "['Facebook', 'Facebook', 'chrome', 'firefox', 'safari', 'edge', 'opera', 'brave', 'vivaldi', 'tor', 'duckduckgo', 'gallery', 'gallery']\n"
     ]
    }
   ],
   "source": [
    "apps.insert(0, 'Facebook')\n",
    "print(apps)"
   ]
  },
  {
   "cell_type": "code",
   "execution_count": 20,
   "metadata": {},
   "outputs": [
    {
     "name": "stdout",
     "output_type": "stream",
     "text": [
      "['Facebook', 'Facebook', 'chrome', 'firefox', 'safari', 'edge', 'opera', 'brave', 'vivaldi', 'tor', 'duckduckgo', 'gallery', 'gallery']\n"
     ]
    }
   ],
   "source": [
    "apps.reverse()\n",
    "print(apps)"
   ]
  },
  {
   "cell_type": "code",
   "execution_count": 21,
   "metadata": {},
   "outputs": [
    {
     "name": "stdout",
     "output_type": "stream",
     "text": [
      "['Facebook', 'Facebook', 'chrome', 'firefox', 'safari', 'edge', 'opera', 'vivaldi', 'tor', 'duckduckgo', 'gallery', 'gallery']\n"
     ]
    }
   ],
   "source": [
    "apps.pop(7)\n",
    "print(apps)"
   ]
  },
  {
   "cell_type": "code",
   "execution_count": 22,
   "metadata": {},
   "outputs": [
    {
     "name": "stdout",
     "output_type": "stream",
     "text": [
      "['Facebook', 'Facebook', 'chrome', 'firefox', 'safari', 'opera', 'vivaldi', 'tor', 'duckduckgo', 'gallery', 'gallery']\n"
     ]
    }
   ],
   "source": [
    "apps.remove('edge')\n",
    "print(apps)"
   ]
  },
  {
   "cell_type": "code",
   "execution_count": 23,
   "metadata": {},
   "outputs": [
    {
     "name": "stdout",
     "output_type": "stream",
     "text": [
      "['Facebook', 'Facebook', 'chrome', 'duckduckgo', 'firefox', 'gallery', 'gallery', 'opera', 'safari', 'tor', 'vivaldi']\n"
     ]
    }
   ],
   "source": [
    "apps.sort()\n",
    "print(apps)"
   ]
  },
  {
   "cell_type": "code",
   "execution_count": 24,
   "metadata": {},
   "outputs": [
    {
     "name": "stdout",
     "output_type": "stream",
     "text": [
      "['Facebook', 'Facebook', 'chrome', 'duckduckgo', 'firefox', 'gallery', 'gallery', 'opera', 'safari', 'tor', 'vivaldi']\n"
     ]
    }
   ],
   "source": [
    "x=apps.copy()\n",
    "print(x)"
   ]
  },
  {
   "cell_type": "code",
   "execution_count": 25,
   "metadata": {},
   "outputs": [
    {
     "name": "stdout",
     "output_type": "stream",
     "text": [
      "[]\n"
     ]
    }
   ],
   "source": [
    "x.clear()\n",
    "print(x)"
   ]
  },
  {
   "cell_type": "code",
   "execution_count": 26,
   "metadata": {},
   "outputs": [
    {
     "name": "stdout",
     "output_type": "stream",
     "text": [
      "1\n"
     ]
    }
   ],
   "source": [
    "a=apps.count('chrome')\n",
    "print(a)"
   ]
  },
  {
   "cell_type": "code",
   "execution_count": 27,
   "metadata": {},
   "outputs": [
    {
     "name": "stdout",
     "output_type": "stream",
     "text": [
      "['Samsung', 'Apple', '1+', 'Redmi', 'Xiaomi', 'Nothing', 'Oppo']\n"
     ]
    }
   ],
   "source": [
    "mobile=[\"Samsung\",\"Apple\",\"1+\",\"Redmi\",\"Xiaomi\",\"Nothing\",\"Oppo\"]\n",
    "print(mobile)"
   ]
  },
  {
   "cell_type": "code",
   "execution_count": 28,
   "metadata": {},
   "outputs": [
    {
     "name": "stdout",
     "output_type": "stream",
     "text": [
      "['Facebook', 'Facebook', 'chrome', 'duckduckgo', 'firefox', 'gallery', 'gallery', 'opera', 'safari', 'tor', 'vivaldi', 'Samsung', 'Apple', '1+', 'Redmi', 'Xiaomi', 'Nothing', 'Oppo']\n"
     ]
    }
   ],
   "source": [
    "apps.extend(mobile)\n",
    "print(apps)"
   ]
  },
  {
   "cell_type": "code",
   "execution_count": 29,
   "metadata": {},
   "outputs": [
    {
     "name": "stdout",
     "output_type": "stream",
     "text": [
      "['Samsung', 'Apple', '1+', 'Redmi', 'Xiaomi', 'Nothing', 'Oppo', 'Facebook', 'Facebook', 'chrome', 'duckduckgo', 'firefox', 'gallery', 'gallery', 'opera', 'safari', 'tor', 'vivaldi', 'Samsung', 'Apple', '1+', 'Redmi', 'Xiaomi', 'Nothing', 'Oppo']\n"
     ]
    }
   ],
   "source": [
    "mobile.extend(apps)\n",
    "print(mobile)"
   ]
  },
  {
   "cell_type": "code",
   "execution_count": null,
   "metadata": {},
   "outputs": [],
   "source": []
  }
 ],
 "metadata": {
  "kernelspec": {
   "display_name": "base",
   "language": "python",
   "name": "python3"
  },
  "language_info": {
   "codemirror_mode": {
    "name": "ipython",
    "version": 3
   },
   "file_extension": ".py",
   "mimetype": "text/x-python",
   "name": "python",
   "nbconvert_exporter": "python",
   "pygments_lexer": "ipython3",
   "version": "3.11.4"
  },
  "orig_nbformat": 4
 },
 "nbformat": 4,
 "nbformat_minor": 2
}
