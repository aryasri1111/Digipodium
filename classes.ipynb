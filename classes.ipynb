{
 "cells": [
  {
   "cell_type": "code",
   "execution_count": 8,
   "metadata": {},
   "outputs": [],
   "source": [
    "class Myclass:  #declaring a class\n",
    "    x=5   #property"
   ]
  },
  {
   "cell_type": "code",
   "execution_count": 9,
   "metadata": {},
   "outputs": [
    {
     "name": "stdout",
     "output_type": "stream",
     "text": [
      "5\n"
     ]
    }
   ],
   "source": [
    "p1=Myclass()  #object creation\n",
    "print(p1.x)   #calling an object"
   ]
  },
  {
   "cell_type": "code",
   "execution_count": 10,
   "metadata": {},
   "outputs": [],
   "source": [
    "class myclass:\n",
    "    x=10"
   ]
  },
  {
   "cell_type": "code",
   "execution_count": 11,
   "metadata": {},
   "outputs": [
    {
     "name": "stdout",
     "output_type": "stream",
     "text": [
      "10\n"
     ]
    }
   ],
   "source": [
    "s=myclass()\n",
    "print(s.x)"
   ]
  },
  {
   "cell_type": "code",
   "execution_count": 14,
   "metadata": {},
   "outputs": [
    {
     "name": "stdout",
     "output_type": "stream",
     "text": [
      "John\n",
      "36\n"
     ]
    }
   ],
   "source": [
    "class Person:\n",
    "    def __init__(self,name,age): #constructor\n",
    "        self.name = name\n",
    "        self.age = age\n",
    "p1=Person(\"John\",36)\n",
    "print(p1.name)\n",
    "print(p1.age)"
   ]
  },
  {
   "cell_type": "code",
   "execution_count": 17,
   "metadata": {},
   "outputs": [
    {
     "name": "stdout",
     "output_type": "stream",
     "text": [
      "Romeo 3 German Shephard\n",
      "Charlie 6 Pomeranian\n"
     ]
    }
   ],
   "source": [
    "class Dog:\n",
    "    def __init__(self,name,age,breed):\n",
    "        self.name=name\n",
    "        self.age=age\n",
    "        self.breed=breed\n",
    "dog1 = Dog(\"Romeo\",3,\"German Shephard\")\n",
    "dog2 = Dog(\"Charlie\",6,\"Pomeranian\")\n",
    "print(dog1.name , dog1.age , dog1.breed)\n",
    "print(dog2.name, dog2.age , dog2.breed)"
   ]
  },
  {
   "cell_type": "code",
   "execution_count": 26,
   "metadata": {},
   "outputs": [
    {
     "name": "stdout",
     "output_type": "stream",
     "text": [
      "Hello my name is John\n",
      "My age is 36\n"
     ]
    }
   ],
   "source": [
    "class Person:\n",
    "    def __init__(self,name,age):\n",
    "        self.name=name\n",
    "        self.age=age\n",
    "    def Myfunc(self):\n",
    "            print(\"Hello my name is \" + self.name)\n",
    "            print(f'My age is {self.age}')\n",
    "p1=Person(\"John\", 36) \n",
    "p1.Myfunc()"
   ]
  },
  {
   "cell_type": "markdown",
   "metadata": {},
   "source": [
    "INHERITANCE"
   ]
  },
  {
   "cell_type": "code",
   "execution_count": 2,
   "metadata": {},
   "outputs": [
    {
     "name": "stdout",
     "output_type": "stream",
     "text": [
      "Charlie says woof!\n",
      "Snowbell says Meow!\n"
     ]
    }
   ],
   "source": [
    "#Parent Class\n",
    "class Animal:\n",
    "    def __init__(self,name):\n",
    "        self.name=name\n",
    "\n",
    "    def speak(self):\n",
    "        pass\n",
    "\n",
    "# Child 1 Class    \n",
    "class Dog(Animal):\n",
    "    def speak(self):\n",
    "        return f\"{self.name} says woof!\"\n",
    "    \n",
    "# Child 2 Class\n",
    "class Cat(Animal):\n",
    "    def speak (self):\n",
    "        return f\"{self.name} says Meow!\"\n",
    "    \n",
    "# Object Creation\n",
    "dog = Dog(\"Charlie\")\n",
    "cat = Cat(\"Snowbell\")\n",
    "\n",
    "print(dog.speak())\n",
    "print(cat.speak())    "
   ]
  },
  {
   "cell_type": "code",
   "execution_count": 3,
   "metadata": {},
   "outputs": [
    {
     "name": "stdout",
     "output_type": "stream",
     "text": [
      "Charlie says woof!\n",
      "Snowbell says Meow!\n"
     ]
    }
   ],
   "source": [
    "#Parent Class\n",
    "class Animal:\n",
    "    def __init__(self,name):\n",
    "        self.name=name\n",
    "\n",
    "    def speak(self):\n",
    "        return \"This animal makes a sound\"\n",
    "\n",
    "# Child 1 Class    \n",
    "class Dog(Animal):\n",
    "    def speak(self):\n",
    "        return f\"{self.name} says woof!\"\n",
    "    \n",
    "# Child 2 Class\n",
    "class Cat(Animal):\n",
    "    def speak (self):\n",
    "        return f\"{self.name} says Meow!\"\n",
    "    \n",
    "# Object Creation\n",
    "dog = Dog(\"Charlie\")\n",
    "cat = Cat(\"Snowbell\")\n",
    "\n",
    "print(dog.speak())\n",
    "print(cat.speak())    "
   ]
  },
  {
   "cell_type": "code",
   "execution_count": 5,
   "metadata": {},
   "outputs": [
    {
     "name": "stdout",
     "output_type": "stream",
     "text": [
      "Charlie says woof!\n",
      "This animal makes a sound\n"
     ]
    }
   ],
   "source": [
    "#Parent Class\n",
    "class Animal:\n",
    "    def __init__(self,name):\n",
    "        self.name=name\n",
    "\n",
    "    def speak(self):\n",
    "        return \"This animal makes a sound\"\n",
    "\n",
    "# Child 1 Class    \n",
    "class Dog(Animal):\n",
    "    def speak(self):\n",
    "        return f\"{self.name} says woof!\"\n",
    "    \n",
    "# Child 2 Class\n",
    "class Cat(Animal):\n",
    "        #No speak method in cat\n",
    "        pass\n",
    "     \n",
    "    \n",
    "# Object Creation\n",
    "dog = Dog(\"Charlie\")\n",
    "cat = Cat(\"Snowbell\")\n",
    "\n",
    "print(dog.speak())\n",
    "print(cat.speak())    "
   ]
  },
  {
   "cell_type": "code",
   "execution_count": 7,
   "metadata": {},
   "outputs": [
    {
     "name": "stdout",
     "output_type": "stream",
     "text": [
      "Hi, I'm Rahul, I'm 28 years old, and my Employee Id is E2783.\n",
      "Hi, I'm Isha, I'm 35 years old, and I Manage the Finance.\n"
     ]
    }
   ],
   "source": [
    "class Person:\n",
    "    def __init__(self,name,age):\n",
    "        self.name=name\n",
    "        self.age=age\n",
    "    def introduce(self):\n",
    "        return f\"Hi, I'm {self.name} , and I'm {self.age} years old\"\n",
    "    \n",
    "class Employee(Person):\n",
    "    def __init__(self,name,age,employee_id):\n",
    "        super().__init__(name,age)\n",
    "        self.employee_id = employee_id\n",
    "\n",
    "    def introduce(self):\n",
    "        return f\"Hi, I'm {self.name}, I'm {self.age} years old, and my Employee Id is {self.employee_id}.\"\n",
    "class Manager(Person):\n",
    "    def __init__(self,name,age,department):\n",
    "        super().__init__(name,age)\n",
    "        self.department = department\n",
    "\n",
    "    def introduce(self):\n",
    "        return f\"Hi, I'm {self.name}, I'm {self.age} years old, and I Manage the {self.department}.\"\n",
    "employee = Employee(\"Rahul\",28,\"E2783\")\n",
    "manager = Manager(\"Isha\",35,\"Finance\")    \n",
    "\n",
    "print(employee.introduce())\n",
    "print(manager.introduce())\n",
    "    "
   ]
  },
  {
   "cell_type": "code",
   "execution_count": null,
   "metadata": {},
   "outputs": [],
   "source": []
  }
 ],
 "metadata": {
  "kernelspec": {
   "display_name": "base",
   "language": "python",
   "name": "python3"
  },
  "language_info": {
   "codemirror_mode": {
    "name": "ipython",
    "version": 3
   },
   "file_extension": ".py",
   "mimetype": "text/x-python",
   "name": "python",
   "nbconvert_exporter": "python",
   "pygments_lexer": "ipython3",
   "version": "3.11.4"
  },
  "orig_nbformat": 4
 },
 "nbformat": 4,
 "nbformat_minor": 2
}
