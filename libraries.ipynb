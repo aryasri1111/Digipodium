{
 "cells": [
  {
   "cell_type": "markdown",
   "metadata": {},
   "source": [
    "- Math Library "
   ]
  },
  {
   "cell_type": "code",
   "execution_count": 9,
   "metadata": {},
   "outputs": [],
   "source": [
    "from math import *"
   ]
  },
  {
   "cell_type": "code",
   "execution_count": 8,
   "metadata": {},
   "outputs": [
    {
     "name": "stdout",
     "output_type": "stream",
     "text": [
      "5.0\n"
     ]
    }
   ],
   "source": [
    "import math\n",
    "a = math.sqrt(25)\n",
    "print(a)"
   ]
  },
  {
   "cell_type": "code",
   "execution_count": 20,
   "metadata": {},
   "outputs": [
    {
     "name": "stdout",
     "output_type": "stream",
     "text": [
      "3.605551275463989\n",
      "120\n",
      "2.0\n",
      "6.643856189774725\n",
      "2\n",
      "336\n",
      "3.141592653589793\n",
      "2.718281828459045\n",
      "0.1411200080598672\n",
      "1.0\n"
     ]
    }
   ],
   "source": [
    "print(math.sqrt(13))\n",
    "print(math.factorial(5))\n",
    "print(math.log(100,10))\n",
    "print(math.log(100,2))\n",
    "print(math.gcd(12,18,14))\n",
    "print(math.lcm(12,14,16))\n",
    "print(math.pi)\n",
    "print(math.e)\n",
    "print(math.sin(3))\n",
    "print(math.cos(0))"
   ]
  },
  {
   "cell_type": "code",
   "execution_count": 25,
   "metadata": {},
   "outputs": [],
   "source": [
    "from random import random, randint, choice, shuffle"
   ]
  },
  {
   "cell_type": "code",
   "execution_count": 33,
   "metadata": {},
   "outputs": [
    {
     "name": "stdout",
     "output_type": "stream",
     "text": [
      "get a random number between 0 and 1: 0.0042091197371870726\n",
      "get a random number between 1 and 10: 5\n",
      "Select a random item : lose\n",
      "shuffle a list: ['Jack', 'Joe', 'John', 'Jane', 'Jill']\n"
     ]
    }
   ],
   "source": [
    "print('get a random number between 0 and 1:', random() )\n",
    "print ('get a random number between 1 and 10:', randint(1,10))\n",
    "print('Select a random item :',choice(['win','lose','draw']))\n",
    "names = ['John','Jane','Jack','Jill','Joe']\n",
    "shuffle(names)\n",
    "print('shuffle a list:' , names)"
   ]
  },
  {
   "cell_type": "code",
   "execution_count": 34,
   "metadata": {},
   "outputs": [],
   "source": [
    "from datetime import datetime as dt"
   ]
  },
  {
   "cell_type": "code",
   "execution_count": 36,
   "metadata": {},
   "outputs": [
    {
     "name": "stdout",
     "output_type": "stream",
     "text": [
      "current date & time: 2023-09-13 10:34:49.050678\n"
     ]
    }
   ],
   "source": [
    "print('current date & time:', dt.now())"
   ]
  },
  {
   "cell_type": "code",
   "execution_count": 37,
   "metadata": {},
   "outputs": [
    {
     "name": "stdout",
     "output_type": "stream",
     "text": [
      "current date: 2023-09-13\n"
     ]
    }
   ],
   "source": [
    "print('current date:', dt.now().date())"
   ]
  },
  {
   "cell_type": "code",
   "execution_count": 38,
   "metadata": {},
   "outputs": [
    {
     "name": "stdout",
     "output_type": "stream",
     "text": [
      "current time: 10:38:00.437672\n"
     ]
    }
   ],
   "source": [
    "print('current time:', dt.now().time())"
   ]
  },
  {
   "cell_type": "code",
   "execution_count": 45,
   "metadata": {},
   "outputs": [
    {
     "name": "stdout",
     "output_type": "stream",
     "text": [
      "current year: 2023\n",
      "current month: 9\n",
      "current day: 13\n",
      "current hour: 10\n",
      "current minute: 47\n",
      "current second: 32\n",
      "current weekday: 2\n"
     ]
    }
   ],
   "source": [
    "print('current year:', dt.now().year)\n",
    "print('current month:', dt.now().month)\n",
    "print('current day:', dt.now().day)\n",
    "print('current hour:', dt.now().hour)\n",
    "print('current minute:', dt.now().minute)\n",
    "print('current second:', dt.now().second)\n",
    "print('current weekday:', dt.now().weekday())"
   ]
  },
  {
   "cell_type": "code",
   "execution_count": 47,
   "metadata": {},
   "outputs": [
    {
     "name": "stdout",
     "output_type": "stream",
     "text": [
      "formatted date: 13/09/23\n"
     ]
    }
   ],
   "source": [
    "date = dt.strftime(dt.now(), '%d/%m/%y')\n",
    "print('formatted date:', date)"
   ]
  },
  {
   "cell_type": "code",
   "execution_count": 48,
   "metadata": {},
   "outputs": [
    {
     "name": "stdout",
     "output_type": "stream",
     "text": [
      "formatted time: 10:50:08\n"
     ]
    }
   ],
   "source": [
    "time = dt.strftime(dt.now(), '%H:%M:%S')\n",
    "print('formatted time:',time)"
   ]
  },
  {
   "cell_type": "code",
   "execution_count": 49,
   "metadata": {},
   "outputs": [],
   "source": [
    "import os #know about folders files or directories"
   ]
  },
  {
   "cell_type": "code",
   "execution_count": 51,
   "metadata": {},
   "outputs": [
    {
     "name": "stdout",
     "output_type": "stream",
     "text": [
      "Current Folder: f:\\Digipodium\n"
     ]
    }
   ],
   "source": [
    "print('Current Folder:', os.getcwd()) #CurrentWorkingDirectory"
   ]
  },
  {
   "cell_type": "code",
   "execution_count": 54,
   "metadata": {},
   "outputs": [
    {
     "name": "stdout",
     "output_type": "stream",
     "text": [
      "['.git', 'Assignment 1.ipynb', 'classes.ipynb', 'conditions.ipynb', 'datatypes.ipynb', 'dictionary.ipynb', 'functions.ipynb', 'game1.2.py', 'game1.py', 'game2.py', 'indexing&slicing.ipynb', 'libraries.ipynb', 'list comprehension.ipynb', 'list.ipynb', 'loops.ipynb', 'operators.ipynb', 'p2.py', 'pattern.py', 'pattern2.py', 'pythagoras.py', 'Questions.ipynb', 'quiz[71].ipynb', 'string.ipynb', 'variables.ipynb']\n"
     ]
    }
   ],
   "source": [
    "files = os.listdir() #list all files and folders of current working diretory\n",
    "print(files)"
   ]
  },
  {
   "cell_type": "code",
   "execution_count": 56,
   "metadata": {},
   "outputs": [
    {
     "name": "stdout",
     "output_type": "stream",
     "text": [
      "['Github captions.docx', 'sensors_abtesting_experiments', 'Task 1.mp4', 'Task 2.mp4', 'Task 3.mp4']\n",
      "5\n"
     ]
    }
   ],
   "source": [
    "files = os.listdir(r\"F:\\Code Casa\")\n",
    "print(files)\n",
    "print(len(files))"
   ]
  },
  {
   "cell_type": "code",
   "execution_count": null,
   "metadata": {},
   "outputs": [],
   "source": []
  }
 ],
 "metadata": {
  "kernelspec": {
   "display_name": "base",
   "language": "python",
   "name": "python3"
  },
  "language_info": {
   "codemirror_mode": {
    "name": "ipython",
    "version": 3
   },
   "file_extension": ".py",
   "mimetype": "text/x-python",
   "name": "python",
   "nbconvert_exporter": "python",
   "pygments_lexer": "ipython3",
   "version": "3.11.4"
  },
  "orig_nbformat": 4
 },
 "nbformat": 4,
 "nbformat_minor": 2
}
