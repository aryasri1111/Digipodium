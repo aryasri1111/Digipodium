{
 "cells": [
  {
   "cell_type": "markdown",
   "metadata": {},
   "source": [
    "Loops \n",
    "- for\n",
    "- while\n",
    "- nested\n",
    "- do while"
   ]
  },
  {
   "cell_type": "markdown",
   "metadata": {},
   "source": [
    "Break"
   ]
  },
  {
   "cell_type": "code",
   "execution_count": 1,
   "metadata": {},
   "outputs": [
    {
     "name": "stdout",
     "output_type": "stream",
     "text": [
      "3\n",
      "7\n",
      "58\n",
      "5\n",
      "2\n",
      "5\n",
      "4\n",
      "44\n",
      "8\n",
      "5\n",
      "6\n",
      "7\n"
     ]
    }
   ],
   "source": [
    "x=[3,7,58,5,2,5,4,44,8,5,6,7,0,8,9,77,6,4,433,0]\n",
    "for i in x:\n",
    "    if i==0:\n",
    "        break\n",
    "    print(i)"
   ]
  },
  {
   "cell_type": "code",
   "execution_count": 3,
   "metadata": {},
   "outputs": [
    {
     "name": "stdout",
     "output_type": "stream",
     "text": [
      "3 7 58 5 2 5 4 44 8 5 6 7 "
     ]
    }
   ],
   "source": [
    "x=[3,7,58,5,2,5,4,44,8,5,6,7,0,8,9,77,6,4,433,0]\n",
    "for i in x:\n",
    "    if i==0:\n",
    "        break\n",
    "    print(i, end=' ')"
   ]
  },
  {
   "cell_type": "code",
   "execution_count": 8,
   "metadata": {},
   "outputs": [
    {
     "name": "stdout",
     "output_type": "stream",
     "text": [
      "Arya is most sincere\n",
      "Danish is most sincere\n",
      "Akash is most sincere\n",
      "Lokesh is most talkative person in the class\n"
     ]
    }
   ],
   "source": [
    "students=['Arya','Danish','Akash','Lokesh','Siddhant']\n",
    "for student in students:\n",
    "    if student=='Lokesh':\n",
    "        print('Lokesh is most talkative person in the class')\n",
    "        break\n",
    "    print(f\"{student} is most sincere\")\n"
   ]
  },
  {
   "cell_type": "markdown",
   "metadata": {},
   "source": [
    "Continue"
   ]
  },
  {
   "cell_type": "code",
   "execution_count": 13,
   "metadata": {},
   "outputs": [
    {
     "name": "stdout",
     "output_type": "stream",
     "text": [
      "1 2 5 4 6 5 4 7 4 5 9 6 5 4 2 3 1 "
     ]
    }
   ],
   "source": [
    "a=[1,2,5,4,6,5,4,8,7,4,5,9,6,5,4,2,3,1]\n",
    "for i in a:\n",
    "    if i==8:\n",
    "        continue\n",
    "    print(i, end=' ')"
   ]
  },
  {
   "cell_type": "code",
   "execution_count": 15,
   "metadata": {},
   "outputs": [
    {
     "name": "stdout",
     "output_type": "stream",
     "text": [
      "1 2 3 5 1 2 23 3 1 2 2 3 3 "
     ]
    }
   ],
   "source": [
    "x=[1,2,3,None,5,1,None,2,23,None,3,1,2,2,3,None,3]\n",
    "for num in x:\n",
    "    if num is None:\n",
    "        continue\n",
    "    print(num,end=\" \")\n",
    "    "
   ]
  },
  {
   "cell_type": "code",
   "execution_count": 19,
   "metadata": {},
   "outputs": [
    {
     "name": "stdout",
     "output_type": "stream",
     "text": [
      "43\n"
     ]
    }
   ],
   "source": [
    "odd_sum=0\n",
    "for num in x:\n",
    "    if num is not None and num%2!=0:\n",
    "        odd_sum+=num \n",
    "print(odd_sum)"
   ]
  },
  {
   "cell_type": "markdown",
   "metadata": {},
   "source": [
    "Enumerate function to print the index no as well"
   ]
  },
  {
   "cell_type": "code",
   "execution_count": 22,
   "metadata": {},
   "outputs": [
    {
     "name": "stdout",
     "output_type": "stream",
     "text": [
      "1: John\n",
      "2: Bob\n",
      "3: Alice\n",
      "4: Mary\n"
     ]
    }
   ],
   "source": [
    "names=['John','Bob','Alice','Mary']\n",
    "for idx, name in enumerate(names):\n",
    "    print(f\"{idx+1}: {name}\")"
   ]
  },
  {
   "cell_type": "markdown",
   "metadata": {},
   "source": [
    "Zip Function"
   ]
  },
  {
   "cell_type": "code",
   "execution_count": 25,
   "metadata": {},
   "outputs": [
    {
     "name": "stdout",
     "output_type": "stream",
     "text": [
      "6 30 20 14 20 14 8 88 11 12 32 116 22 18 10 "
     ]
    }
   ],
   "source": [
    "x=[2,5,4,2,5,6,1,5,4,2,5,3,6,5,1]\n",
    "y=[2,5,4,6,3,2,5,4,1,2,5,6,3,2,5]\n",
    "z=[2,5,4,2,5,2,3,68,7,8,7,98,4,8,5]\n",
    "for i, j, k in zip(x,y,z):\n",
    "    print(i*j+k, end=' ')"
   ]
  },
  {
   "cell_type": "code",
   "execution_count": 29,
   "metadata": {},
   "outputs": [
    {
     "name": "stdout",
     "output_type": "stream",
     "text": [
      "Interstellar has a rating of 8.6⭐ on IMBD\n",
      "The Martian has a rating of 9⭐ on IMBD\n",
      "Gravity has a rating of 7.5⭐ on IMBD\n",
      "Apollo 13 has a rating of 8.9⭐ on IMBD\n"
     ]
    }
   ],
   "source": [
    "movies= ['Interstellar','The Martian','Gravity','Apollo 13']\n",
    "rating= [8.6,9,7.5,8.9]\n",
    "\n",
    "for name, star in zip(movies,rating):\n",
    "    print(f'{name} has a rating of {star}⭐ on IMBD')\n"
   ]
  }
 ],
 "metadata": {
  "kernelspec": {
   "display_name": "base",
   "language": "python",
   "name": "python3"
  },
  "language_info": {
   "codemirror_mode": {
    "name": "ipython",
    "version": 3
   },
   "file_extension": ".py",
   "mimetype": "text/x-python",
   "name": "python",
   "nbconvert_exporter": "python",
   "pygments_lexer": "ipython3",
   "version": "3.11.4"
  },
  "orig_nbformat": 4
 },
 "nbformat": 4,
 "nbformat_minor": 2
}
